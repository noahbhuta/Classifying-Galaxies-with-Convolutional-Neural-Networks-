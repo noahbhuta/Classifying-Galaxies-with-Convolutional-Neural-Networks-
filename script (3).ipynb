{
 "cells": [
  {
   "cell_type": "code",
   "execution_count": null,
   "id": "8139c8ba",
   "metadata": {},
   "outputs": [],
   "source": [
    "# In this project I will create a deep learning classifier that takes in image data and classifies what type of galaxy it is. \n",
    "\n",
    "# the four possibilities of galaxies are..\n",
    "\n",
    "# [1,0,0,0] - Galaxies with no identifying characteristics.\n",
    "# [0,1,0,0] - Galaxies with rings.\n",
    "# [0,0,1,0] - Galactic mergers.\n",
    "# [0,0,0,1] - “Other,” Irregular celestial bodies."
   ]
  },
  {
   "cell_type": "code",
   "execution_count": null,
   "id": "433e9656",
   "metadata": {},
   "outputs": [],
   "source": [
    "# Dataset from Galaxy Zoo\n",
    "# https://www.zooniverse.org/projects/zookeeper/galaxy-zoo/,"
   ]
  },
  {
   "cell_type": "code",
   "execution_count": 4,
   "id": "ca021d3c",
   "metadata": {},
   "outputs": [],
   "source": [
    "## Codecademy functions to access the large galaxy data file\n",
    "\n",
    "import requests\n",
    "import io\n",
    "import numpy as np\n",
    "import os\n",
    "\n",
    "#Loads data from url\n",
    "def make_request(url):\n",
    "    print(\"Requesting data from {}...\".format(url))\n",
    "    response = requests.get('https://content.codecademy.com/courses/deeplearning-with-tensorflow/'+url)\n",
    "    response.raise_for_status()\n",
    "    response_data = io.BytesIO(response.content)\n",
    "    return response_data\n",
    "    \n",
    "#Loads galaxy data\n",
    "def load_galaxy_data():\n",
    "  \n",
    "  #If cached file not found, loads data from url\n",
    "  if not os.path.isfile('./cached_data.npz'):\n",
    "     response_data = make_request(url='galaxydata.npz')\n",
    "\n",
    "     with open(\"cached_data.npz\",\"wb\") as save_file:\n",
    "      save_file.write(response_data.read())\n",
    " \n",
    "  #Load data using NumPy\n",
    "  data = np.load('cached_data.npz')\n",
    "\n",
    "  print(\"Successfully loaded galaxy data!\")\n",
    "  \n",
    "  return data[\"data\"],data[\"labels\"]"
   ]
  },
  {
   "cell_type": "code",
   "execution_count": 9,
   "id": "c7c2c6b1",
   "metadata": {},
   "outputs": [
    {
     "name": "stdout",
     "output_type": "stream",
     "text": [
      "Successfully loaded galaxy data!\n"
     ]
    }
   ],
   "source": [
    "import tensorflow as tf\n",
    "from tensorflow.keras.preprocessing.image import ImageDataGenerator\n",
    "\n",
    "from sklearn.model_selection import train_test_split\n",
    "\n",
    "\n",
    "\n",
    "input_data, labels = load_galaxy_data()"
   ]
  },
  {
   "cell_type": "code",
   "execution_count": 8,
   "id": "558d79b3",
   "metadata": {},
   "outputs": [
    {
     "name": "stdout",
     "output_type": "stream",
     "text": [
      "(1400, 128, 128, 3)\n",
      "(1400, 4)\n"
     ]
    }
   ],
   "source": [
    "print(input_data.shape)\n",
    "print(labels.shape)"
   ]
  },
  {
   "cell_type": "code",
   "execution_count": 10,
   "id": "7d12bed2",
   "metadata": {},
   "outputs": [],
   "source": [
    "X_train, X_test, y_train, y_test = train_test_split(input_data, labels, test_size = .20,random_state  = 222, stratify=labels, shuffle = True)"
   ]
  },
  {
   "cell_type": "code",
   "execution_count": 13,
   "id": "42f4a044",
   "metadata": {},
   "outputs": [],
   "source": [
    "generator = ImageDataGenerator(rescale = 1./255)"
   ]
  },
  {
   "cell_type": "code",
   "execution_count": 31,
   "id": "4c0c36f5",
   "metadata": {},
   "outputs": [],
   "source": [
    "training = generator.flow(X_train,y_train,batch_size=5)\n",
    "validation = generator.flow(X_test,y_test,batch_size=5)"
   ]
  },
  {
   "cell_type": "code",
   "execution_count": 32,
   "id": "5b4007cd",
   "metadata": {},
   "outputs": [],
   "source": [
    "from tensorflow.keras.layers import Conv2D"
   ]
  },
  {
   "cell_type": "code",
   "execution_count": 33,
   "id": "b153155a",
   "metadata": {},
   "outputs": [],
   "source": [
    "model = tf.keras.Sequential()\n",
    "\n",
    "model.add(tf.keras.Input(shape =input_data.shape[1:4]))\n",
    "\n",
    "model.add(Conv2D(8,3, strides = 2, activation = 'relu'))\n",
    "\n",
    "model.add(tf.keras.layers.MaxPooling2D(pool_size=(2, 2), strides=2))\n",
    "\n",
    "model.add(Conv2D(8,3, strides = 2, activation = 'relu'))\n",
    "\n",
    "model.add(tf.keras.layers.MaxPooling2D(pool_size=(2, 2), strides=2))\n",
    "\n",
    "model.add(tf.keras.layers.Flatten())\n",
    "\n",
    "model.add(tf.keras.layers.Dense(16, activation= 'relu'))\n",
    "\n",
    "model.add(tf.keras.layers.Dense(4, activation= 'softmax'))\n",
    "\n"
   ]
  },
  {
   "cell_type": "code",
   "execution_count": 59,
   "id": "94a0a83d",
   "metadata": {},
   "outputs": [],
   "source": [
    "model.compile(optimizer= tf.keras.optimizers.Adam(learning_rate =.001), loss= tf.keras.losses.CategoricalCrossentropy(), metrics=[tf.keras.metrics.Accuracy(),tf.keras.metrics.CategoricalAccuracy(), tf.keras.metrics.AUC()])"
   ]
  },
  {
   "cell_type": "code",
   "execution_count": 60,
   "id": "b584bcdf",
   "metadata": {},
   "outputs": [
    {
     "name": "stdout",
     "output_type": "stream",
     "text": [
      "Model: \"sequential_2\"\n",
      "_________________________________________________________________\n",
      " Layer (type)                Output Shape              Param #   \n",
      "=================================================================\n",
      " conv2d_2 (Conv2D)           (None, 63, 63, 8)         224       \n",
      "                                                                 \n",
      " max_pooling2d_2 (MaxPooling  (None, 31, 31, 8)        0         \n",
      " 2D)                                                             \n",
      "                                                                 \n",
      " conv2d_3 (Conv2D)           (None, 15, 15, 8)         584       \n",
      "                                                                 \n",
      " max_pooling2d_3 (MaxPooling  (None, 7, 7, 8)          0         \n",
      " 2D)                                                             \n",
      "                                                                 \n",
      " flatten_1 (Flatten)         (None, 392)               0         \n",
      "                                                                 \n",
      " dense_3 (Dense)             (None, 16)                6288      \n",
      "                                                                 \n",
      " dense_4 (Dense)             (None, 4)                 68        \n",
      "                                                                 \n",
      "=================================================================\n",
      "Total params: 7,164\n",
      "Trainable params: 7,164\n",
      "Non-trainable params: 0\n",
      "_________________________________________________________________\n"
     ]
    }
   ],
   "source": [
    "model.summary()"
   ]
  },
  {
   "cell_type": "code",
   "execution_count": 61,
   "id": "276c28a2",
   "metadata": {},
   "outputs": [
    {
     "name": "stdout",
     "output_type": "stream",
     "text": [
      "Epoch 1/12\n",
      "44/44 [==============================] - 1s 15ms/step - loss: 0.9259 - accuracy: 0.0000e+00 - categorical_accuracy: 0.6400 - auc_7: 0.8491 - val_loss: 1.0257 - val_accuracy: 0.0000e+00 - val_categorical_accuracy: 0.5167 - val_auc_7: 0.8091\n",
      "Epoch 2/12\n",
      "44/44 [==============================] - 0s 8ms/step - loss: 1.0001 - accuracy: 0.0000e+00 - categorical_accuracy: 0.5689 - auc_7: 0.8236 - val_loss: 1.0725 - val_accuracy: 0.0000e+00 - val_categorical_accuracy: 0.6167 - val_auc_7: 0.8001\n",
      "Epoch 3/12\n",
      "44/44 [==============================] - 0s 8ms/step - loss: 0.9945 - accuracy: 0.0000e+00 - categorical_accuracy: 0.5867 - auc_7: 0.8254 - val_loss: 0.9790 - val_accuracy: 0.0000e+00 - val_categorical_accuracy: 0.6333 - val_auc_7: 0.8337\n",
      "Epoch 4/12\n",
      "44/44 [==============================] - 0s 8ms/step - loss: 1.0201 - accuracy: 0.0000e+00 - categorical_accuracy: 0.5644 - auc_7: 0.8168 - val_loss: 0.9683 - val_accuracy: 0.0000e+00 - val_categorical_accuracy: 0.6333 - val_auc_7: 0.8392\n",
      "Epoch 5/12\n",
      "44/44 [==============================] - 0s 8ms/step - loss: 0.9127 - accuracy: 0.0000e+00 - categorical_accuracy: 0.6311 - auc_7: 0.8569 - val_loss: 1.0512 - val_accuracy: 0.0000e+00 - val_categorical_accuracy: 0.4833 - val_auc_7: 0.8000\n",
      "Epoch 6/12\n",
      "44/44 [==============================] - 0s 8ms/step - loss: 0.9066 - accuracy: 0.0000e+00 - categorical_accuracy: 0.6267 - auc_7: 0.8569 - val_loss: 0.8934 - val_accuracy: 0.0000e+00 - val_categorical_accuracy: 0.7667 - val_auc_7: 0.8678\n",
      "Epoch 7/12\n",
      "44/44 [==============================] - 0s 7ms/step - loss: 0.9480 - accuracy: 0.0000e+00 - categorical_accuracy: 0.6133 - auc_7: 0.8392 - val_loss: 0.9214 - val_accuracy: 0.0000e+00 - val_categorical_accuracy: 0.5667 - val_auc_7: 0.8557\n",
      "Epoch 8/12\n",
      "44/44 [==============================] - 0s 8ms/step - loss: 0.7938 - accuracy: 0.0000e+00 - categorical_accuracy: 0.6800 - auc_7: 0.8940 - val_loss: 1.1469 - val_accuracy: 0.0000e+00 - val_categorical_accuracy: 0.5667 - val_auc_7: 0.7754\n",
      "Epoch 9/12\n",
      "44/44 [==============================] - 0s 8ms/step - loss: 0.9086 - accuracy: 0.0000e+00 - categorical_accuracy: 0.6311 - auc_7: 0.8541 - val_loss: 1.1515 - val_accuracy: 0.0000e+00 - val_categorical_accuracy: 0.5833 - val_auc_7: 0.7660\n",
      "Epoch 10/12\n",
      "44/44 [==============================] - 0s 8ms/step - loss: 0.9246 - accuracy: 0.0000e+00 - categorical_accuracy: 0.6400 - auc_7: 0.8536 - val_loss: 0.9144 - val_accuracy: 0.0000e+00 - val_categorical_accuracy: 0.6167 - val_auc_7: 0.8569\n",
      "Epoch 11/12\n",
      "44/44 [==============================] - 0s 8ms/step - loss: 0.9072 - accuracy: 0.0000e+00 - categorical_accuracy: 0.6356 - auc_7: 0.8567 - val_loss: 1.0514 - val_accuracy: 0.0000e+00 - val_categorical_accuracy: 0.6167 - val_auc_7: 0.8019\n",
      "Epoch 12/12\n",
      "44/44 [==============================] - 0s 8ms/step - loss: 0.9137 - accuracy: 0.0000e+00 - categorical_accuracy: 0.6267 - auc_7: 0.8510 - val_loss: 0.7801 - val_accuracy: 0.0000e+00 - val_categorical_accuracy: 0.7333 - val_auc_7: 0.9058\n"
     ]
    }
   ],
   "source": [
    "history = model.fit(training, steps_per_epoch = len(training)/5,epochs  = 12, validation_data = validation,validation_steps = len(validation)/5)"
   ]
  },
  {
   "cell_type": "code",
   "execution_count": 62,
   "id": "88f49c2f",
   "metadata": {},
   "outputs": [
    {
     "name": "stdout",
     "output_type": "stream",
     "text": [
      "9/9 [==============================] - 0s 11ms/step - loss: 108.1165 - accuracy: 0.6821 - categorical_accuracy: 0.5214 - auc_7: 0.6896\n"
     ]
    }
   ],
   "source": [
    "results = model.evaluate(X_test, y_test)"
   ]
  },
  {
   "cell_type": "code",
   "execution_count": 63,
   "id": "9dfde32f",
   "metadata": {},
   "outputs": [
    {
     "name": "stdout",
     "output_type": "stream",
     "text": [
      "[108.11646270751953, 0.6821428537368774, 0.5214285850524902, 0.6895768642425537]\n"
     ]
    }
   ],
   "source": [
    "print(results)"
   ]
  },
  {
   "cell_type": "code",
   "execution_count": 64,
   "id": "5f0654dc",
   "metadata": {},
   "outputs": [
    {
     "data": {
      "text/plain": [
       "['loss', 'accuracy', 'categorical_accuracy', 'auc_7']"
      ]
     },
     "execution_count": 64,
     "metadata": {},
     "output_type": "execute_result"
    }
   ],
   "source": [
    "model.metrics_names"
   ]
  },
  {
   "cell_type": "code",
   "execution_count": null,
   "id": "02cfef15",
   "metadata": {},
   "outputs": [],
   "source": [
    "# My model has an accuracy of .68. This means that my model correctly classifies deep-space galaxies 68 percent of the time.\n",
    "# This is fairly good considering that randomly guessing would result in a accuracy of 25 percent because of the four categories."
   ]
  }
 ],
 "metadata": {
  "kernelspec": {
   "display_name": "Python 3 (ipykernel)",
   "language": "python",
   "name": "python3"
  },
  "language_info": {
   "codemirror_mode": {
    "name": "ipython",
    "version": 3
   },
   "file_extension": ".py",
   "mimetype": "text/x-python",
   "name": "python",
   "nbconvert_exporter": "python",
   "pygments_lexer": "ipython3",
   "version": "3.9.12"
  }
 },
 "nbformat": 4,
 "nbformat_minor": 5
}
